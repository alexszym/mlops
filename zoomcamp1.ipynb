{
  "cells": [
    {
      "cell_type": "code",
      "source": [
        "import pandas as pd\r\n",
        "\r\n",
        "df = pd.read_parquet('./taxi/fhv_tripdata_2021-01.parquet')\r\n",
        "len(df)"
      ],
      "outputs": [
        {
          "output_type": "execute_result",
          "execution_count": 54,
          "data": {
            "text/plain": "1154112"
          },
          "metadata": {}
        }
      ],
      "execution_count": 54,
      "metadata": {
        "jupyter": {
          "source_hidden": false,
          "outputs_hidden": false
        },
        "nteract": {
          "transient": {
            "deleting": false
          }
        },
        "gather": {
          "logged": 1652977444523
        }
      }
    },
    {
      "cell_type": "code",
      "source": [
        "df['duration'] = df.dropOff_datetime - df.pickup_datetime\r\n",
        "df.duration = df.duration.apply(lambda td: td.total_seconds() / 60)\r\n",
        "df.duration.mean()"
      ],
      "outputs": [
        {
          "output_type": "execute_result",
          "execution_count": 55,
          "data": {
            "text/plain": "19.1672240937939"
          },
          "metadata": {}
        }
      ],
      "execution_count": 55,
      "metadata": {
        "jupyter": {
          "source_hidden": false,
          "outputs_hidden": false
        },
        "nteract": {
          "transient": {
            "deleting": false
          }
        },
        "gather": {
          "logged": 1652977458175
        }
      }
    },
    {
      "cell_type": "code",
      "source": [
        "df2 = df[(df.duration >= 1) & (df.duration <= 60)]\r\n",
        "dropped = len(df)-len(df2)\r\n",
        "print(dropped)"
      ],
      "outputs": [
        {
          "output_type": "stream",
          "name": "stdout",
          "text": "44286\n"
        }
      ],
      "execution_count": 56,
      "metadata": {
        "jupyter": {
          "source_hidden": false,
          "outputs_hidden": false
        },
        "nteract": {
          "transient": {
            "deleting": false
          }
        },
        "gather": {
          "logged": 1652977459661
        }
      }
    },
    {
      "cell_type": "code",
      "source": [
        "import numpy as np\r\n",
        "columns = ['PUlocationID', 'DOlocationID']\r\n",
        "df2[columns[0]] = df2[columns[0]].replace(np.nan, -1)\r\n",
        "df2[columns[1]] = df2[columns[1]].replace(np.nan, -1)\r\n",
        "\r\n",
        "#percent_missing = df2[df2['PUlocationID'] == -1].sum() * 100 / len(df2)\r\n",
        "#print(percent_missing)\r\n",
        "#df2.head(10)"
      ],
      "outputs": [
        {
          "output_type": "stream",
          "name": "stderr",
          "text": "/tmp/ipykernel_3528/3376294448.py:3: SettingWithCopyWarning: \nA value is trying to be set on a copy of a slice from a DataFrame.\nTry using .loc[row_indexer,col_indexer] = value instead\n\nSee the caveats in the documentation: https://pandas.pydata.org/pandas-docs/stable/user_guide/indexing.html#returning-a-view-versus-a-copy\n  df2[columns[0]] = df2[columns[0]].replace(np.nan, -1)\n/tmp/ipykernel_3528/3376294448.py:4: SettingWithCopyWarning: \nA value is trying to be set on a copy of a slice from a DataFrame.\nTry using .loc[row_indexer,col_indexer] = value instead\n\nSee the caveats in the documentation: https://pandas.pydata.org/pandas-docs/stable/user_guide/indexing.html#returning-a-view-versus-a-copy\n  df2[columns[1]] = df2[columns[1]].replace(np.nan, -1)\n"
        }
      ],
      "execution_count": 58,
      "metadata": {
        "jupyter": {
          "source_hidden": false,
          "outputs_hidden": false
        },
        "nteract": {
          "transient": {
            "deleting": false
          }
        },
        "gather": {
          "logged": 1652977834087
        }
      }
    },
    {
      "cell_type": "code",
      "source": [
        "df2.head(10)"
      ],
      "outputs": [
        {
          "output_type": "execute_result",
          "execution_count": 34,
          "data": {
            "text/plain": "   dispatching_base_num     pickup_datetime    dropOff_datetime  PUlocationID  \\\n0                B00009 2021-01-01 00:27:00 2021-01-01 00:44:00          -1.0   \n1                B00009 2021-01-01 00:50:00 2021-01-01 01:07:00          -1.0   \n3                B00037 2021-01-01 00:13:09 2021-01-01 00:21:26          -1.0   \n4                B00037 2021-01-01 00:38:31 2021-01-01 00:53:44          -1.0   \n5                B00037 2021-01-01 00:59:02 2021-01-01 01:08:05          -1.0   \n6                B00037 2021-01-01 00:18:12 2021-01-01 00:30:04          -1.0   \n7                B00037 2021-01-01 00:36:15 2021-01-01 00:45:08          -1.0   \n8                B00037 2021-01-01 00:55:04 2021-01-01 01:13:02          -1.0   \n9                B00037 2021-01-01 00:48:40 2021-01-01 01:12:02          -1.0   \n10               B00037 2021-01-01 00:27:23 2021-01-01 00:29:25          -1.0   \n\n    DOlocationID SR_Flag Affiliated_base_number   duration  \n0           -1.0    None                 B00009  17.000000  \n1           -1.0    None                 B00009  17.000000  \n3           72.0    None                 B00037   8.283333  \n4           61.0    None                 B00037  15.216667  \n5           71.0    None                 B00037   9.050000  \n6           91.0    None                 B00037  11.866667  \n7           39.0    None                 B00037   8.883333  \n8           37.0    None                 B00037  17.966667  \n9           39.0    None                 B00037  23.366667  \n10          72.0    None                 B00037   2.033333  ",
            "text/html": "<div>\n<style scoped>\n    .dataframe tbody tr th:only-of-type {\n        vertical-align: middle;\n    }\n\n    .dataframe tbody tr th {\n        vertical-align: top;\n    }\n\n    .dataframe thead th {\n        text-align: right;\n    }\n</style>\n<table border=\"1\" class=\"dataframe\">\n  <thead>\n    <tr style=\"text-align: right;\">\n      <th></th>\n      <th>dispatching_base_num</th>\n      <th>pickup_datetime</th>\n      <th>dropOff_datetime</th>\n      <th>PUlocationID</th>\n      <th>DOlocationID</th>\n      <th>SR_Flag</th>\n      <th>Affiliated_base_number</th>\n      <th>duration</th>\n    </tr>\n  </thead>\n  <tbody>\n    <tr>\n      <th>0</th>\n      <td>B00009</td>\n      <td>2021-01-01 00:27:00</td>\n      <td>2021-01-01 00:44:00</td>\n      <td>-1.0</td>\n      <td>-1.0</td>\n      <td>None</td>\n      <td>B00009</td>\n      <td>17.000000</td>\n    </tr>\n    <tr>\n      <th>1</th>\n      <td>B00009</td>\n      <td>2021-01-01 00:50:00</td>\n      <td>2021-01-01 01:07:00</td>\n      <td>-1.0</td>\n      <td>-1.0</td>\n      <td>None</td>\n      <td>B00009</td>\n      <td>17.000000</td>\n    </tr>\n    <tr>\n      <th>3</th>\n      <td>B00037</td>\n      <td>2021-01-01 00:13:09</td>\n      <td>2021-01-01 00:21:26</td>\n      <td>-1.0</td>\n      <td>72.0</td>\n      <td>None</td>\n      <td>B00037</td>\n      <td>8.283333</td>\n    </tr>\n    <tr>\n      <th>4</th>\n      <td>B00037</td>\n      <td>2021-01-01 00:38:31</td>\n      <td>2021-01-01 00:53:44</td>\n      <td>-1.0</td>\n      <td>61.0</td>\n      <td>None</td>\n      <td>B00037</td>\n      <td>15.216667</td>\n    </tr>\n    <tr>\n      <th>5</th>\n      <td>B00037</td>\n      <td>2021-01-01 00:59:02</td>\n      <td>2021-01-01 01:08:05</td>\n      <td>-1.0</td>\n      <td>71.0</td>\n      <td>None</td>\n      <td>B00037</td>\n      <td>9.050000</td>\n    </tr>\n    <tr>\n      <th>6</th>\n      <td>B00037</td>\n      <td>2021-01-01 00:18:12</td>\n      <td>2021-01-01 00:30:04</td>\n      <td>-1.0</td>\n      <td>91.0</td>\n      <td>None</td>\n      <td>B00037</td>\n      <td>11.866667</td>\n    </tr>\n    <tr>\n      <th>7</th>\n      <td>B00037</td>\n      <td>2021-01-01 00:36:15</td>\n      <td>2021-01-01 00:45:08</td>\n      <td>-1.0</td>\n      <td>39.0</td>\n      <td>None</td>\n      <td>B00037</td>\n      <td>8.883333</td>\n    </tr>\n    <tr>\n      <th>8</th>\n      <td>B00037</td>\n      <td>2021-01-01 00:55:04</td>\n      <td>2021-01-01 01:13:02</td>\n      <td>-1.0</td>\n      <td>37.0</td>\n      <td>None</td>\n      <td>B00037</td>\n      <td>17.966667</td>\n    </tr>\n    <tr>\n      <th>9</th>\n      <td>B00037</td>\n      <td>2021-01-01 00:48:40</td>\n      <td>2021-01-01 01:12:02</td>\n      <td>-1.0</td>\n      <td>39.0</td>\n      <td>None</td>\n      <td>B00037</td>\n      <td>23.366667</td>\n    </tr>\n    <tr>\n      <th>10</th>\n      <td>B00037</td>\n      <td>2021-01-01 00:27:23</td>\n      <td>2021-01-01 00:29:25</td>\n      <td>-1.0</td>\n      <td>72.0</td>\n      <td>None</td>\n      <td>B00037</td>\n      <td>2.033333</td>\n    </tr>\n  </tbody>\n</table>\n</div>"
          },
          "metadata": {}
        }
      ],
      "execution_count": 34,
      "metadata": {
        "jupyter": {
          "source_hidden": false,
          "outputs_hidden": false
        },
        "nteract": {
          "transient": {
            "deleting": false
          }
        },
        "gather": {
          "logged": 1652975964613
        }
      }
    },
    {
      "cell_type": "code",
      "source": [
        "def process_val_df(filename):\r\n",
        "    df = pd.read_parquet(filename)\r\n",
        "    df['duration'] = df.dropOff_datetime - df.pickup_datetime\r\n",
        "    df.duration = df.duration.apply(lambda td: td.total_seconds() / 60)\r\n",
        "\r\n",
        "    df = df[(df.duration >= 1) & (df.duration <= 60)]\r\n",
        "\r\n",
        "    df[columns[0]] = df[columns[0]].replace(np.nan, -1)\r\n",
        "    df[columns[1]] = df[columns[1]].replace(np.nan, -1)\r\n",
        "\r\n",
        "    return df\r\n"
      ],
      "outputs": [],
      "execution_count": 63,
      "metadata": {
        "jupyter": {
          "source_hidden": false,
          "outputs_hidden": false
        },
        "nteract": {
          "transient": {
            "deleting": false
          }
        },
        "gather": {
          "logged": 1652977963534
        }
      }
    },
    {
      "cell_type": "code",
      "source": [
        "from sklearn.feature_extraction import DictVectorizer\r\n",
        "from sklearn.linear_model import LinearRegression\r\n",
        "from sklearn.metrics import mean_squared_error\r\n",
        "\r\n",
        "df_train = process_val_df('./taxi/fhv_tripdata_2021-01.parquet')\r\n",
        "df_val = process_val_df('./taxi/fhv_tripdata_2021-02.parquet')\r\n",
        "\r\n",
        "train_dicts = df_train[columns].astype(str).to_dict(orient='records')\r\n",
        "val_dicts = df_val[columns].astype(str).to_dict(orient='records')\r\n",
        "\r\n",
        "dv = DictVectorizer()\r\n",
        "X_train = dv.fit_transform(train_dicts)\r\n",
        "X_val = dv.transform(val_dicts)\r\n",
        "print(X_train.shape)\r\n",
        "\r\n",
        "target = 'duration'\r\n",
        "y_train = df_train[target].values\r\n",
        "y_val = df_val[target].values\r\n"
      ],
      "outputs": [],
      "execution_count": 81,
      "metadata": {
        "jupyter": {
          "source_hidden": false,
          "outputs_hidden": false
        },
        "nteract": {
          "transient": {
            "deleting": false
          }
        },
        "gather": {
          "logged": 1652978173275
        }
      }
    },
    {
      "cell_type": "code",
      "source": [
        "print(val_dicts[:10])\r\n",
        "print(train_dicts[:10])"
      ],
      "outputs": [],
      "execution_count": null,
      "metadata": {
        "jupyter": {
          "source_hidden": false,
          "outputs_hidden": false
        },
        "nteract": {
          "transient": {
            "deleting": false
          }
        },
        "gather": {
          "logged": 1652978774903
        }
      }
    },
    {
      "cell_type": "code",
      "source": [
        "lr = LinearRegression()\r\n",
        "lr.fit(X_train, y_train)\r\n",
        "\r\n",
        "y_pred1 = lr.predict(X_train)\r\n",
        "y_pred2 = lr.predict(X_val)\r\n",
        "\r\n",
        "\r\n",
        "print(mean_squared_error(y_train, y_pred1, squared=False))\r\n",
        "print(mean_squared_error(y_val, y_pred2, squared=False))"
      ],
      "outputs": [],
      "execution_count": null,
      "metadata": {
        "jupyter": {
          "source_hidden": false,
          "outputs_hidden": false
        },
        "nteract": {
          "transient": {
            "deleting": false
          }
        },
        "gather": {
          "logged": 1652978468261
        }
      }
    }
  ],
  "metadata": {
    "kernelspec": {
      "name": "python38-azureml",
      "language": "python",
      "display_name": "Python 3.8 - AzureML"
    },
    "language_info": {
      "name": "python",
      "version": "3.8.1",
      "mimetype": "text/x-python",
      "codemirror_mode": {
        "name": "ipython",
        "version": 3
      },
      "pygments_lexer": "ipython3",
      "nbconvert_exporter": "python",
      "file_extension": ".py"
    },
    "nteract": {
      "version": "nteract-front-end@1.0.0"
    },
    "microsoft": {
      "host": {
        "AzureML": {
          "notebookHasBeenCompleted": true
        }
      }
    },
    "kernel_info": {
      "name": "python38-azureml"
    }
  },
  "nbformat": 4,
  "nbformat_minor": 2
}